{
 "cells": [
  {
   "cell_type": "code",
   "execution_count": 3,
   "metadata": {},
   "outputs": [],
   "source": [
    "import pickle\n",
    "import pprint\n",
    "import numpy as np\n",
    "from scipy import linalg\n",
    "from scipy import fftpack as fp\n",
    "from operator import attrgetter\n",
    "from Comicle_Class import Comic, MainComic, SubComic, FeaturedCharacter"
   ]
  },
  {
   "cell_type": "code",
   "execution_count": 4,
   "metadata": {},
   "outputs": [],
   "source": [
    "with open('ComicInstances.bin', 'rb') as p:\n",
    "    ComicInstances = pickle.load(p)"
   ]
  },
  {
   "cell_type": "code",
   "execution_count": 5,
   "metadata": {},
   "outputs": [],
   "source": [
    "def get_SBD(x, y):\n",
    "    \n",
    "    #Define FFT-size based on the length of input\n",
    "    p = int(x.shape[0])\n",
    "    FFTlen = int(2**np.ceil(np.log2(2*p-1)))\n",
    "    \n",
    "    #Compute the normalized cross-correlation function (NCC)\n",
    "    CC = fp.ifft(fp.fft(x, FFTlen)*fp.fft(y, FFTlen).conjugate()).real\n",
    "    \n",
    "    #Reorder the IFFT result\n",
    "    CC = np.concatenate((CC[-(p-1):], CC[:p]), axis=0)\n",
    "    \n",
    "    #To avoid zero division\n",
    "    denom = linalg.norm(x) * linalg.norm(y)\n",
    "    if denom < 1e-10:\n",
    "        denom = np.inf\n",
    "    NCC = CC / denom\n",
    "    \n",
    "    #Search for the argument to maximize NCC\n",
    "    ndx = np.argmax(NCC, axis=0)\n",
    "    dist = 1 - NCC[ndx]\n",
    "    \n",
    "    return dist"
   ]
  },
  {
   "cell_type": "code",
   "execution_count": 6,
   "metadata": {},
   "outputs": [],
   "source": [
    "for xComicInstance in ComicInstances:\n",
    "    SBDComicRanking = []\n",
    "    xTitle = xComicInstance.get_Title()\n",
    "    for aComicInstance in ComicInstances:\n",
    "        aTitle = aComicInstance.get_Title()\n",
    "        \n",
    "        if xTitle != aTitle:\n",
    "            yFeatureRank_yFeaturedCharacterInstance = xComicInstance.get_FeatureRank_FeaturedCharacterInstance()\n",
    "            bFeatureRank_bFeaturedCharacterInstance = aComicInstance.get_FeatureRank_FeaturedCharacterInstance()\n",
    "\n",
    "            aDistance = 0\n",
    "            for tFeatureRank in yFeatureRank_yFeaturedCharacterInstance:\n",
    "                yFeaturedCharacterInstance = yFeatureRank_yFeaturedCharacterInstance[tFeatureRank]\n",
    "                bFeaturedCharacterInstance = bFeatureRank_bFeaturedCharacterInstance[tFeatureRank]\n",
    "                yCharacterRates = yFeaturedCharacterInstance.get_CharacterRates()\n",
    "                bCharacterRates = bFeaturedCharacterInstance.get_CharacterRates()\n",
    "                aDistance += get_SBD(np.array(yCharacterRates), np.array(bCharacterRates))\n",
    "\n",
    "            aFile = aComicInstance.get_File()\n",
    "            aAuthor = aComicInstance.get_Author()\n",
    "            aEra = aComicInstance.get_Era()\n",
    "            aPublisher = aComicInstance.get_Publisher()\n",
    "            aTarget = aComicInstance.get_Target()\n",
    "            aGenre = aComicInstance.get_Genre()\n",
    "            aType = aComicInstance.get_Type()\n",
    "\n",
    "            SubComicInstance = SubComic(aFile, aTitle, aAuthor, aEra, aPublisher, aTarget, aGenre, aType, aDistance)\n",
    "            SBDComicRanking.append(SubComicInstance)\n",
    "    \n",
    "    SBDComicRanking.sort(key=attrgetter('Distance'))\n",
    "    xComicInstance.set_SBDComicRanking(SBDComicRanking)"
   ]
  },
  {
   "cell_type": "code",
   "execution_count": 7,
   "metadata": {},
   "outputs": [
    {
     "name": "stdout",
     "output_type": "stream",
     "text": [
      "犯罪交渉人_峰岸英太郎 7.23376913703104\n",
      "無敵冒険シャクマ 7.262491755562516\n",
      "ヒーリング・プラネット 7.269682162895998\n",
      "ハイスクール！奇面組 7.27583290287879\n",
      "学園ノイズ 7.2869895876794395\n",
      "サイコスタッフ 7.2887769300145795\n",
      "プラチナジャングル 7.304831449195745\n",
      "タップ君の探偵室 7.328006711532989\n",
      "黒井戸眼科 7.32921012974489\n",
      "ベルモンド 7.3386856372962805\n",
      "あっけら貫刃帖 7.34871094504333\n",
      "最速！！ 7.356645596311727\n",
      "ゆめ色クッキング 7.358220039775492\n",
      "密・リターンズ！ 7.3596511174364325\n",
      "ありさ2 7.365428395274446\n",
      "魔夜の赤い靴 7.383255206501906\n",
      "てんしのはねとアクマのシッポ 7.391679605798806\n",
      "やまとの羽根 7.396104471751029\n",
      "めもり星人 7.407172864970429\n",
      "うるとらイレブン 7.415176376328326\n",
      "やさしい悪魔 7.421402501196262\n",
      "プレイヤーは眠れない 7.433700923280179\n",
      "うちの猫ず日記 7.434297154100598\n",
      "カウント3でキメてあげる 7.446341746088495\n",
      "新・銀のキメイラ 7.457347079484079\n",
      "ラブひな 7.488188165632381\n",
      "天晴れ！カッポーレ 7.497166023497417\n",
      "ボクはしたたか君 7.521513322788419\n",
      "藤太参ります！！ 7.533973349191371\n",
      "大東京トイボックス 7.54188837519318\n",
      "ぱらいそロード 7.547524847954005\n",
      "日常スープ 7.552550248400589\n",
      "ヂャンギリぽんぽん 7.560865379595193\n",
      "桃山灰神楽 7.563809632288765\n",
      "平成爺メン 7.56935149057741\n",
      "デュアルジャスティス 7.570840553721847\n",
      "ジョバレ 7.622848776780587\n",
      "燃える！お兄さん 7.630687889593386\n",
      "ビメイダー・ピー 7.634659582587534\n",
      "みすてないでデイジー 7.6424205533731335\n",
      "メテオさんストライクです！ 7.6463987664976445\n",
      "さまよえる少年に純愛を 7.660803198761814\n",
      "君は僕の太陽だ 7.66999824912034\n",
      "マジシャンロード 7.706269515436862\n",
      "妖魔降臨 7.842562987011563\n",
      "ばいばいC-BOY 8.30114534173232\n",
      "マジックスター学院 8.3013599026322\n",
      "ひなぎく見参！ 8.325900483192624\n",
      "その気でABC 8.338133186935831\n",
      "じじばばファイト！ 8.426408163894921\n",
      "凛として疾風の中 8.4290356076703\n",
      "ゆめのかよいじ 8.47493750117053\n",
      "永遠のウィズ 8.492003717561014\n",
      "未来さん 8.492231204265556\n",
      "極限サイクロン 8.513766129494961\n",
      "ねこだま 8.531429258137269\n",
      "ワレワレハ，オニデアル 8.535329702565456\n",
      "はるかリフレイン 9.142443005177972\n",
      "ぴかる元気です！ 9.158848966668462\n",
      "エヴリデイおさかなちゃん 9.164042591987991\n",
      "宇宙課々付エヴァレディ 9.179519406010197\n",
      "空っぽハイスクール 9.183171411018671\n",
      "ランスロットフルスロットル 9.220727424931843\n",
      "しまっていこうぜ 9.264276231682791\n",
      "ラファエル 9.317365119863789\n",
      "太陽にスマッシュ！ 10.025734065325155\n",
      "ライジングガール 10.084052642925604\n",
      "むこうきずのチョンボ 10.142647405319702\n"
     ]
    }
   ],
   "source": [
    "for xComicInstance in ComicInstances:\n",
    "    xTitle = xComicInstance.get_Title()\n",
    "    if xTitle == \"東京トイボクシーズ\":\n",
    "        SBDComicRanking = xComicInstance.get_SBDComicRanking()\n",
    "        for yComicInstance in SBDComicRanking:\n",
    "            yTitle = yComicInstance.get_Title()\n",
    "            yDistance = yComicInstance.get_Distance()\n",
    "            print(yTitle, yDistance)"
   ]
  },
  {
   "cell_type": "code",
   "execution_count": 8,
   "metadata": {},
   "outputs": [],
   "source": [
    "with open('ComicInstances.bin', 'wb') as p:\n",
    "    pickle.dump(ComicInstances, p)"
   ]
  }
 ],
 "metadata": {
  "kernelspec": {
   "display_name": "Python 3.9.12 ('comicle')",
   "language": "python",
   "name": "python3"
  },
  "language_info": {
   "codemirror_mode": {
    "name": "ipython",
    "version": 3
   },
   "file_extension": ".py",
   "mimetype": "text/x-python",
   "name": "python",
   "nbconvert_exporter": "python",
   "pygments_lexer": "ipython3",
   "version": "3.9.12"
  },
  "orig_nbformat": 4,
  "vscode": {
   "interpreter": {
    "hash": "339e6d626d9e6ab0de18dd1e0e4d8f8f3b6703534f7504cbe39807e5e8e0cc1e"
   }
  }
 },
 "nbformat": 4,
 "nbformat_minor": 2
}
