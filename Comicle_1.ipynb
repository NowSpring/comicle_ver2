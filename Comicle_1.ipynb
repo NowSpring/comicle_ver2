{
 "cells": [
  {
   "cell_type": "code",
   "execution_count": 1,
   "metadata": {},
   "outputs": [],
   "source": [
    "import glob\n",
    "import pprint\n",
    "import pickle\n",
    "import numpy as np\n",
    "import japanize_matplotlib\n",
    "import matplotlib.pyplot as plt\n",
    "import matplotlib.colors as mcolors\n",
    "import xml.etree.ElementTree as et\n",
    "\n",
    "from Comicle_Class import Comic, MainComic, Character, FeaturedCharacter"
   ]
  },
  {
   "cell_type": "code",
   "execution_count": 2,
   "metadata": {},
   "outputs": [],
   "source": [
    "ComicInstances = []\n",
    "\n",
    "for xFile in glob.glob('annotations_Main/*.xml'):\n",
    "    tree = et.ElementTree(file = xFile)\n",
    "    root = tree.getroot()\n",
    "    xTitle = root.attrib[\"title\"]\n",
    "    xAuthor = root.attrib[\"author\"]\n",
    "    xEra = root.attrib[\"era\"]\n",
    "    xPublisher = root.attrib[\"publisher\"]\n",
    "    xTarget = root.attrib[\"target\"]\n",
    "    xGenre = root.attrib[\"genre\"]\n",
    "    xType = root.attrib[\"type\"]\n",
    "\n",
    "    xComicInstance = MainComic(xFile, xTitle, xAuthor, xEra, xPublisher, xTarget, xGenre, xType, None, None, None, None, None, None, None)\n",
    "    ComicInstances.append(xComicInstance)"
   ]
  },
  {
   "cell_type": "code",
   "execution_count": 3,
   "metadata": {},
   "outputs": [],
   "source": [
    "for xComicInstance in ComicInstances:\n",
    "    xFile = xComicInstance.get_File()\n",
    "    tree = et.ElementTree(file = xFile)\n",
    "    root = tree.getroot()\n",
    "    \n",
    "    xFrameRanges = []\n",
    "    for child in root:\n",
    "        if child.tag == \"pages\":\n",
    "            for grandchild in child:\n",
    "                xFrameRange = 0\n",
    "                for great_grandchild in grandchild:\n",
    "                    if great_grandchild.tag == \"frame\":\n",
    "                            xmin = int(great_grandchild.attrib[\"xmin\"])\n",
    "                            ymin = int(great_grandchild.attrib[\"ymin\"])\n",
    "                            xmax = int(great_grandchild.attrib[\"xmax\"])\n",
    "                            ymax = int(great_grandchild.attrib[\"ymax\"])\n",
    "                            xFrameRange += (xmax - xmin) * (ymax - ymin)\n",
    "                xFrameRanges.append(xFrameRange)\n",
    "    \n",
    "    xComicInstance.set_PageCount(len(xFrameRanges))\n",
    "    xComicInstance.set_FrameRanges(xFrameRanges)"
   ]
  },
  {
   "cell_type": "code",
   "execution_count": 4,
   "metadata": {},
   "outputs": [],
   "source": [
    "for xComicInstance in ComicInstances:\n",
    "    xFile = xComicInstance.get_File()\n",
    "    tree = et.ElementTree(file = xFile)\n",
    "    root = tree.getroot()\n",
    "\n",
    "    xCharacterInstances = []\n",
    "    for child in root:\n",
    "        if child.tag == \"characters\":\n",
    "            for grandchild in child:\n",
    "                yId = grandchild.attrib[\"id\"]\n",
    "                yName =  grandchild.attrib[\"name\"]\n",
    "                yCharacterInstance = Character(yId, yName, None)\n",
    "                xCharacterInstances.append(yCharacterInstance)\n",
    "    \n",
    "    xComicInstance.set_CharacterInstances(xCharacterInstances)                "
   ]
  },
  {
   "cell_type": "code",
   "execution_count": 5,
   "metadata": {},
   "outputs": [
    {
     "data": {
      "text/plain": [
       "'for xComicInstance in ComicInstances:\\n    xCharacterInstances = xComicInstance.get_CharacterInstances()\\n    for yCharacterInstance in xCharacterInstances:\\n        yName = yCharacterInstance.get_Name()\\n        print(yName)\\n    print()'"
      ]
     },
     "execution_count": 5,
     "metadata": {},
     "output_type": "execute_result"
    }
   ],
   "source": [
    "\"\"\"for xComicInstance in ComicInstances:\n",
    "    xCharacterInstances = xComicInstance.get_CharacterInstances()\n",
    "    for yCharacterInstance in xCharacterInstances:\n",
    "        yName = yCharacterInstance.get_Name()\n",
    "        print(yName)\n",
    "    print()\"\"\""
   ]
  },
  {
   "cell_type": "code",
   "execution_count": 6,
   "metadata": {},
   "outputs": [],
   "source": [
    "for xComicInstance in ComicInstances:\n",
    "    xFile = xComicInstance.get_File()\n",
    "    tree = et.ElementTree(file = xFile)\n",
    "    root = tree.getroot()\n",
    "\n",
    "    SmoothingNumber = 20\n",
    "    W = np.ones(SmoothingNumber)/SmoothingNumber\n",
    "\n",
    "    xFrameRanges = xComicInstance.get_FrameRanges()\n",
    "    xCharacterInstances = xComicInstance.get_CharacterInstances()\n",
    "    for i in range(len(xCharacterInstances)):\n",
    "        yCharacterInstance = xCharacterInstances[i]\n",
    "        yId = yCharacterInstance.get_Id()\n",
    "        yCharacterRates = []\n",
    "\n",
    "        PageCount = 0\n",
    "        for child in root:\n",
    "            if child.tag == \"pages\":\n",
    "                for grandchild in child:\n",
    "                    yCharacterRange = 0\n",
    "                    for great_grandchild in grandchild:\n",
    "                        if great_grandchild.tag == \"body\":\n",
    "                            if great_grandchild.attrib[\"character\"] == yId:\n",
    "                                xmin = int(great_grandchild.attrib[\"xmin\"])\n",
    "                                ymin = int(great_grandchild.attrib[\"ymin\"])\n",
    "                                xmax = int(great_grandchild.attrib[\"xmax\"])\n",
    "                                ymax = int(great_grandchild.attrib[\"ymax\"])\n",
    "                                yCharacterRange += (xmax - xmin) * (ymax - ymin)\n",
    "                    if xFrameRanges[PageCount] != 0:\n",
    "                        yCharacterRate = yCharacterRange / xFrameRanges[PageCount]\n",
    "                    else:\n",
    "                        yCharacterRate = 0\n",
    "                    yCharacterRates.append(yCharacterRate)\n",
    "                    PageCount += 1\n",
    "        \n",
    "        yCharacterRates = np.array(yCharacterRates)\n",
    "        yCharacterRates = (np.convolve(yCharacterRates, W, mode = \"same\"))\n",
    "                \n",
    "        yCharacterInstance.set_CharacterRates(yCharacterRates)\n",
    "\n",
    "    xComicInstance.set_CharacterInstances(xCharacterInstances) "
   ]
  },
  {
   "cell_type": "code",
   "execution_count": 7,
   "metadata": {},
   "outputs": [
    {
     "data": {
      "text/plain": [
       "'for xComicInstance in ComicInstances:\\n    xTitle = xComicInstance.get_Title()\\n    if xTitle == \"東京トイボクシーズ\":\\n        plt.figure(figsize=(10,4))\\n        xCharacterInstances = xComicInstance.get_CharacterInstances()\\n        for yCharacterInstance in xCharacterInstances:\\n            yCharacterRates = yCharacterInstance.get_CharacterRates()\\n            plt.plot(yCharacterRates)\\n        plt.show()'"
      ]
     },
     "execution_count": 7,
     "metadata": {},
     "output_type": "execute_result"
    }
   ],
   "source": [
    "\"\"\"for xComicInstance in ComicInstances:\n",
    "    xTitle = xComicInstance.get_Title()\n",
    "    if xTitle == \"東京トイボクシーズ\":\n",
    "        plt.figure(figsize=(10,4))\n",
    "        xCharacterInstances = xComicInstance.get_CharacterInstances()\n",
    "        for yCharacterInstance in xCharacterInstances:\n",
    "            yCharacterRates = yCharacterInstance.get_CharacterRates()\n",
    "            plt.plot(yCharacterRates)\n",
    "        plt.show()\"\"\""
   ]
  },
  {
   "cell_type": "code",
   "execution_count": 8,
   "metadata": {},
   "outputs": [],
   "source": [
    "def make_BorderRate(iPageCharacterRates):\n",
    "    iPageCharacterRates = sorted(iPageCharacterRates, reverse = True)\n",
    "    iPageCharacterRateDifferences = []\n",
    "\n",
    "    for j in range(len(iPageCharacterRates) - 1):\n",
    "        iPageCharacterRateDifference = abs(iPageCharacterRates[j] - iPageCharacterRates[j + 1])\n",
    "        iPageCharacterRateDifferences.append(iPageCharacterRateDifference)\n",
    "    index_iPageMaxRateDifference = iPageCharacterRateDifferences.index(max(iPageCharacterRateDifferences))\n",
    "    iPageBorderRate = iPageCharacterRates[index_iPageMaxRateDifference]\n",
    "    \n",
    "    return iPageBorderRate\n",
    "\n",
    "\n",
    "for xComicInstance in ComicInstances:\n",
    "    arrayCharacterRates = []\n",
    "    xCharacterInstances = xComicInstance.get_CharacterInstances()\n",
    "    for yCharacterInstance in xCharacterInstances:\n",
    "        yCharacterRates = yCharacterInstance.get_CharacterRates()\n",
    "        arrayCharacterRates.append(yCharacterRates)\n",
    "\n",
    "    #pprint.pprint(np.array(arrayCharacterRates).shape)\n",
    "    \n",
    "    xBorderRates = []\n",
    "    for i in range(len(arrayCharacterRates[0])):\n",
    "        iPageCharacterRates = np.array(arrayCharacterRates)[:, i].tolist()\n",
    "        iPageBorderRate = make_BorderRate(iPageCharacterRates)\n",
    "        xBorderRates.append(iPageBorderRate)\n",
    "    \n",
    "    xComicInstance.set_BorderRates(xBorderRates)"
   ]
  },
  {
   "cell_type": "code",
   "execution_count": 9,
   "metadata": {},
   "outputs": [],
   "source": [
    "for xComicInstance in ComicInstances:\n",
    "    xPageCount = xComicInstance.get_PageCount()\n",
    "    xBorderRates = xComicInstance.get_BorderRates()\n",
    "    xCharacterInstances = xComicInstance.get_CharacterInstances()\n",
    "\n",
    "    xFeaturedCharacterInstances = []\n",
    "\n",
    "    for yCharacterInstance in xCharacterInstances:\n",
    "        yCharacterRates = yCharacterInstance.get_CharacterRates()\n",
    "        \n",
    "        yFeaturedCharacterRates = []\n",
    "        for i in range(len(xBorderRates)):\n",
    "            iPageyCharacterRate = yCharacterRates[i]\n",
    "            iPageBorderRate = xBorderRates[i]\n",
    "            if iPageyCharacterRate >= iPageBorderRate:\n",
    "                yFeaturedCharacterRates.append(iPageyCharacterRate)\n",
    "            else:\n",
    "                yFeaturedCharacterRates.append(np.nan)\n",
    "        \n",
    "        if yFeaturedCharacterRates != [np.nan] * xPageCount:\n",
    "            yId = yCharacterInstance.get_Id()\n",
    "            yName = yCharacterInstance.get_Name()\n",
    "            yCharacterRates = yCharacterInstance.get_CharacterRates()\n",
    "            yFeaturedCharacterInstance = FeaturedCharacter(yId, yName, yCharacterRates, yFeaturedCharacterRates)\n",
    "            xFeaturedCharacterInstances.append(yFeaturedCharacterInstance)\n",
    "\n",
    "\n",
    "    yNotFeaturePageCount_yFeaturedCharacterInstance = {} \n",
    "    for yFeaturedCharacterInstance in xFeaturedCharacterInstances:\n",
    "        yFeaturedCharacterRates = yFeaturedCharacterInstance.get_FeaturedCharacterRates()\n",
    "        yNotFeaturePageCount = yFeaturedCharacterRates.count(np.nan)\n",
    "        yNotFeaturePageCount_yFeaturedCharacterInstance[yNotFeaturePageCount] = yFeaturedCharacterInstance\n",
    "\n",
    "    yFeatureRank_yFeaturedCharacterInstance = {}\n",
    "    ascendingyNotFeaturePageCounts = sorted(list(yNotFeaturePageCount_yFeaturedCharacterInstance.keys()))\n",
    "    yFeatureRank = 1\n",
    "    for yNotFeaturePageCount in ascendingyNotFeaturePageCounts:\n",
    "        yFeaturedCharacterInstance = yNotFeaturePageCount_yFeaturedCharacterInstance[yNotFeaturePageCount]\n",
    "        yFeatureRank_yFeaturedCharacterInstance[yFeatureRank] = yFeaturedCharacterInstance\n",
    "        yFeatureRank += 1\n",
    "    \n",
    "    xComicInstance.set_FeaturedCharacterCount(len(yFeatureRank_yFeaturedCharacterInstance))\n",
    "    xComicInstance.set_FeatureRank_FeaturedCharacterInstance(yFeatureRank_yFeaturedCharacterInstance)\n"
   ]
  },
  {
   "cell_type": "code",
   "execution_count": 10,
   "metadata": {},
   "outputs": [],
   "source": [
    "MaxCount = 0\n",
    "for xComicInstance in ComicInstances:\n",
    "    yFeatureRank_yFeaturedCharacterInstance = xComicInstance.get_FeatureRank_FeaturedCharacterInstance()\n",
    "    if MaxCount < len(yFeatureRank_yFeaturedCharacterInstance):\n",
    "        MaxCount = len(yFeatureRank_yFeaturedCharacterInstance)\n",
    "\n",
    "for xComicInstance in ComicInstances:\n",
    "    xPageCount = xComicInstance.get_PageCount()\n",
    "    yFeatureRank_yFeaturedCharacterInstance = xComicInstance.get_FeatureRank_FeaturedCharacterInstance()\n",
    "    while len(yFeatureRank_yFeaturedCharacterInstance) < MaxCount:\n",
    "        yFeatureRank_yFeaturedCharacterInstance[len(yFeatureRank_yFeaturedCharacterInstance) + 1] = FeaturedCharacter(None, \"架空キャラ\", [0] * PageCount, None)"
   ]
  },
  {
   "cell_type": "code",
   "execution_count": 11,
   "metadata": {},
   "outputs": [
    {
     "data": {
      "text/plain": [
       "'for xComicInstance in ComicInstances:\\n    xTitle = xComicInstance.get_Title()\\n    if xTitle == \"東京トイボクシーズ\":\\n        yFeatureRank_yFeaturedCharacterInstance = xComicInstance.get_FeatureRank_FeaturedCharacterInstance()\\n        for yFeatureRank in yFeatureRank_yFeaturedCharacterInstance:\\n            yFeaturedCharacterInstance = yFeatureRank_yFeaturedCharacterInstance[yFeatureRank]\\n            yName = yFeaturedCharacterInstance.get_Name()\\n            print(yName, yFeatureRank)\\n            print()'"
      ]
     },
     "execution_count": 11,
     "metadata": {},
     "output_type": "execute_result"
    }
   ],
   "source": [
    "\"\"\"for xComicInstance in ComicInstances:\n",
    "    xTitle = xComicInstance.get_Title()\n",
    "    if xTitle == \"東京トイボクシーズ\":\n",
    "        yFeatureRank_yFeaturedCharacterInstance = xComicInstance.get_FeatureRank_FeaturedCharacterInstance()\n",
    "        for yFeatureRank in yFeatureRank_yFeaturedCharacterInstance:\n",
    "            yFeaturedCharacterInstance = yFeatureRank_yFeaturedCharacterInstance[yFeatureRank]\n",
    "            yName = yFeaturedCharacterInstance.get_Name()\n",
    "            print(yName, yFeatureRank)\n",
    "            print()\"\"\""
   ]
  },
  {
   "cell_type": "code",
   "execution_count": 12,
   "metadata": {},
   "outputs": [
    {
     "data": {
      "text/plain": [
       "'Colors = mcolors.TABLEAU_COLORS\\nColors = list(Colors.keys())\\nprint(len(Colors))\\n\\nfor xComicInstance in ComicInstances:\\n    xTitle = xComicInstance.get_Title()\\n    plt.figure(figsize=(10,4))\\n    yFeatureRank_yFeaturedCharacterInstance = xComicInstance.get_FeatureRank_FeaturedCharacterInstance()\\n    yFeatureRank = 1\\n    while yFeatureRank in yFeatureRank_yFeaturedCharacterInstance:\\n        yFeaturedCharacterInstance = yFeatureRank_yFeaturedCharacterInstance[yFeatureRank]\\n        yName = yFeaturedCharacterInstance.get_Name()\\n        if yName != \"架空キャラ\":\\n            yCharacterRates = yFeaturedCharacterInstance.get_CharacterRates()\\n            yFeaturedCharacterRates = yFeaturedCharacterInstance.get_FeaturedCharacterRates()\\n\\n            plt.plot(yCharacterRates, color = Colors[yFeatureRank - 1], linewidth = 2, label = yName)\\n            plt.plot(yFeaturedCharacterRates, color = Colors[yFeatureRank - 1], linewidth = 6)\\n        \\n        yFeatureRank += 1\\n\\n        if yFeatureRank == 11:\\n            break\\n\\n    plt.legend(loc=\\'upper center\\', bbox_to_anchor=(0.5, -0.1), ncol=5)\\n    plt.tight_layout()\\n    plt.savefig(\"Graph/\" + xTitle + \".png\")\\n    #plt.show()'"
      ]
     },
     "execution_count": 12,
     "metadata": {},
     "output_type": "execute_result"
    }
   ],
   "source": [
    "\"\"\"Colors = mcolors.TABLEAU_COLORS\n",
    "Colors = list(Colors.keys())\n",
    "print(len(Colors))\n",
    "\n",
    "for xComicInstance in ComicInstances:\n",
    "    xTitle = xComicInstance.get_Title()\n",
    "    plt.figure(figsize=(10,4))\n",
    "    yFeatureRank_yFeaturedCharacterInstance = xComicInstance.get_FeatureRank_FeaturedCharacterInstance()\n",
    "    yFeatureRank = 1\n",
    "    while yFeatureRank in yFeatureRank_yFeaturedCharacterInstance:\n",
    "        yFeaturedCharacterInstance = yFeatureRank_yFeaturedCharacterInstance[yFeatureRank]\n",
    "        yName = yFeaturedCharacterInstance.get_Name()\n",
    "        if yName != \"架空キャラ\":\n",
    "            yCharacterRates = yFeaturedCharacterInstance.get_CharacterRates()\n",
    "            yFeaturedCharacterRates = yFeaturedCharacterInstance.get_FeaturedCharacterRates()\n",
    "\n",
    "            plt.plot(yCharacterRates, color = Colors[yFeatureRank - 1], linewidth = 2, label = yName)\n",
    "            plt.plot(yFeaturedCharacterRates, color = Colors[yFeatureRank - 1], linewidth = 6)\n",
    "        \n",
    "        yFeatureRank += 1\n",
    "\n",
    "        if yFeatureRank == 11:\n",
    "            break\n",
    "\n",
    "    plt.legend(loc='upper center', bbox_to_anchor=(0.5, -0.1), ncol=5)\n",
    "    plt.tight_layout()\n",
    "    plt.savefig(\"Graph/\" + xTitle + \".png\")\n",
    "    #plt.show()\"\"\""
   ]
  },
  {
   "cell_type": "code",
   "execution_count": 13,
   "metadata": {},
   "outputs": [],
   "source": [
    "with open('ComicInstances.bin', 'wb') as p:\n",
    "    pickle.dump(ComicInstances, p)"
   ]
  }
 ],
 "metadata": {
  "kernelspec": {
   "display_name": "Python 3.9.12 ('comicle')",
   "language": "python",
   "name": "python3"
  },
  "language_info": {
   "codemirror_mode": {
    "name": "ipython",
    "version": 3
   },
   "file_extension": ".py",
   "mimetype": "text/x-python",
   "name": "python",
   "nbconvert_exporter": "python",
   "pygments_lexer": "ipython3",
   "version": "3.9.12"
  },
  "orig_nbformat": 4,
  "vscode": {
   "interpreter": {
    "hash": "339e6d626d9e6ab0de18dd1e0e4d8f8f3b6703534f7504cbe39807e5e8e0cc1e"
   }
  }
 },
 "nbformat": 4,
 "nbformat_minor": 2
}
