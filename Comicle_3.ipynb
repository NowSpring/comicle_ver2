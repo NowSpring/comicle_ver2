{
 "cells": [
  {
   "cell_type": "code",
   "execution_count": 1,
   "metadata": {},
   "outputs": [],
   "source": [
    "import pickle\n",
    "import pandas as pd\n",
    "from Comicle_Class import Comic, MainComic, SubComic, FeaturedCharacter"
   ]
  },
  {
   "cell_type": "code",
   "execution_count": 2,
   "metadata": {},
   "outputs": [],
   "source": [
    "with open('ComicInstances.bin', 'rb') as p:\n",
    "    ComicInstances = pickle.load(p)"
   ]
  },
  {
   "cell_type": "code",
   "execution_count": 17,
   "metadata": {},
   "outputs": [],
   "source": [
    "Eras = []\n",
    "Targets = []\n",
    "Genres = []\n",
    "Types = []\n",
    "TargetsTypes = []\n",
    "\n",
    "for xComicInstance in ComicInstances:\n",
    "    Eras.append(xComicInstance.get_Era())\n",
    "    Targets.append(xComicInstance.get_Target())\n",
    "    Genres.append(xComicInstance.get_Genre())\n",
    "    Types.append(xComicInstance.get_Type())\n",
    "    TargetsTypes.append((xComicInstance.get_Target(), xComicInstance.get_Type()))\n",
    "\n",
    "Eras = sorted(list(set(Eras)))\n",
    "Targets = sorted(list(set(Targets)))\n",
    "Genres = sorted(list(set(Genres)))\n",
    "Types = sorted(list(set(Types)))\n",
    "TargetsTypes = sorted(list(set(TargetsTypes)))\n"
   ]
  },
  {
   "cell_type": "code",
   "execution_count": null,
   "metadata": {},
   "outputs": [],
   "source": []
  },
  {
   "cell_type": "code",
   "execution_count": 14,
   "metadata": {},
   "outputs": [
    {
     "name": "stdout",
     "output_type": "stream",
     "text": [
      "      1人  2人  3人  4人  5人  6人以上  作品数\n",
      "2000   2   1   7  11   4     4   29\n",
      "1990   2   5   3   5   2    10   27\n",
      "1980   1   2   3   3   5     3   17\n"
     ]
    }
   ],
   "source": [
    "arrayComicCounts = []\n",
    "for xLabel in Eras:\n",
    "    ComicCounts = [0, 0, 0, 0, 0, 0]\n",
    "    for xComicInstance in ComicInstances:\n",
    "        xEra = xComicInstance.get_Era()\n",
    "        if xEra == xLabel:\n",
    "            xFeaturedCharacterCount = xComicInstance.get_FeaturedCharacterCount()\n",
    "            if xFeaturedCharacterCount <= 5:\n",
    "                ComicCounts[xFeaturedCharacterCount - 1] += 1\n",
    "            else:\n",
    "                ComicCounts[5] += 1\n",
    "    ComicCounts.append(sum(ComicCounts))\n",
    "    arrayComicCounts.append(ComicCounts)\n",
    "\n",
    "Cols = [\"1人\", \"2人\", \"3人\", \"4人\", \"5人\", \"6人以上\",\"作品数\"]\n",
    "DF = pd.DataFrame(data = arrayComicCounts, index = Eras, columns = Cols)\n",
    "print(DF)"
   ]
  },
  {
   "cell_type": "code",
   "execution_count": 31,
   "metadata": {},
   "outputs": [
    {
     "name": "stdout",
     "output_type": "stream",
     "text": [
      "    1人  2人  3人  4人  5人  6人以上  作品数\n",
      "少年   1   3   1   9   5     9   28\n",
      "少女   1   3   4   4   1     2   15\n",
      "青年   1   1   3   6   3     3   17\n",
      "女性   2   1   5   0   2     3   13\n"
     ]
    }
   ],
   "source": [
    "arrayComicCounts = []\n",
    "for xLabel in Targets:\n",
    "    ComicCounts = [0, 0, 0, 0, 0, 0]\n",
    "    for xComicInstance in ComicInstances:\n",
    "        xTarget = xComicInstance.get_Target()\n",
    "        if xTarget == xLabel:\n",
    "            xFeaturedCharacterCount = xComicInstance.get_FeaturedCharacterCount()\n",
    "            if xFeaturedCharacterCount <= 5:\n",
    "                ComicCounts[xFeaturedCharacterCount - 1] += 1\n",
    "            else:\n",
    "                ComicCounts[5] += 1\n",
    "    ComicCounts.append(sum(ComicCounts))\n",
    "    arrayComicCounts.append(ComicCounts)\n",
    "\n",
    "Cols = [\"1人\", \"2人\", \"3人\", \"4人\", \"5人\", \"6人以上\", \"作品数\"]\n",
    "DF = pd.DataFrame(data = arrayComicCounts, index = Targets, columns = Cols)\n",
    "print(DF)"
   ]
  },
  {
   "cell_type": "code",
   "execution_count": null,
   "metadata": {},
   "outputs": [],
   "source": [
    "arrayComicCounts = []\n",
    "for xLabel in Genres:\n",
    "    ComicCounts = [0, 0, 0, 0, 0]\n",
    "    for xComicInstance in ComicInstances:\n",
    "        xGenre = xComicInstance.get_Genre()\n",
    "        if xGenre == xLabel:\n",
    "            xFeaturedCharacterCount = xComicInstance.get_FeaturedCharacterCount()\n",
    "            if xFeaturedCharacterCount <= 4:\n",
    "                ComicCounts[xFeaturedCharacterCount - 1] += 1\n",
    "            else:\n",
    "                ComicCounts[4] += 1\n",
    "    ComicCounts.append(sum(ComicCounts))\n",
    "    arrayComicCounts.append(ComicCounts)\n",
    "\n",
    "Cols = [\"1人\", \"2人\", \"3人\", \"4人\", \"5人以上\", \"作品数\"]\n",
    "DF = pd.DataFrame(data = arrayComicCounts, index = Genres, columns = Cols)\n",
    "print(DF)"
   ]
  },
  {
   "cell_type": "code",
   "execution_count": 23,
   "metadata": {},
   "outputs": [
    {
     "name": "stdout",
     "output_type": "stream",
     "text": [
      "          1人  2人  3人  4人  5人  6人以上  作品数\n",
      "1巻(完結済み)   3   5   9   4   4     7   32\n",
      "1巻(続きあり)   2   3   4  15   7    10   41\n"
     ]
    }
   ],
   "source": [
    "arrayComicCounts = []\n",
    "for xLabel in Types:\n",
    "    ComicCounts = [0, 0, 0, 0, 0, 0]\n",
    "    for xComicInstance in ComicInstances:\n",
    "        xType = xComicInstance.get_Type()\n",
    "        if xType == xLabel:\n",
    "            xFeaturedCharacterCount = xComicInstance.get_FeaturedCharacterCount()\n",
    "            if xFeaturedCharacterCount <= 5:\n",
    "                ComicCounts[xFeaturedCharacterCount - 1] += 1\n",
    "            else:\n",
    "                ComicCounts[5] += 1\n",
    "    ComicCounts.append(sum(ComicCounts))\n",
    "    arrayComicCounts.append(ComicCounts)\n",
    "\n",
    "Cols = [\"1人\", \"2人\", \"3人\", \"4人\", \"5人\", \"6人以上\", \"作品数\"]\n",
    "DF = pd.DataFrame(data = arrayComicCounts, index = Types, columns = Cols)\n",
    "print(DF)"
   ]
  },
  {
   "cell_type": "code",
   "execution_count": 22,
   "metadata": {},
   "outputs": [
    {
     "name": "stdout",
     "output_type": "stream",
     "text": [
      "                1人  2人  3人  4人  5人  6人以上  作品数\n",
      "(女性, 1巻(完結済み))   2   1   4   0   1     2   10\n",
      "(女性, 1巻(続きあり))   0   0   1   0   1     1    3\n",
      "(少女, 1巻(完結済み))   0   2   1   1   0     2    6\n",
      "(少女, 1巻(続きあり))   1   1   3   3   1     0    9\n",
      "(少年, 1巻(完結済み))   0   1   1   2   1     2    7\n",
      "(少年, 1巻(続きあり))   1   2   0   7   4     7   21\n",
      "(青年, 1巻(完結済み))   1   1   3   1   2     1    9\n",
      "(青年, 1巻(続きあり))   0   0   0   5   1     2    8\n"
     ]
    }
   ],
   "source": [
    "arrayComicCounts = []\n",
    "for xLabel in TargetsTypes:\n",
    "    ComicCounts = [0, 0, 0, 0, 0, 0]\n",
    "    for xComicInstance in ComicInstances:\n",
    "        xTarget = xComicInstance.get_Target()\n",
    "        xType = xComicInstance.get_Type()\n",
    "        if (xTarget, xType) == xLabel:\n",
    "            xFeaturedCharacterCount = xComicInstance.get_FeaturedCharacterCount()\n",
    "            if xFeaturedCharacterCount <= 5:\n",
    "                ComicCounts[xFeaturedCharacterCount - 1] += 1\n",
    "            else:\n",
    "                ComicCounts[5] += 1\n",
    "    ComicCounts.append(sum(ComicCounts))\n",
    "    arrayComicCounts.append(ComicCounts)\n",
    "\n",
    "Cols = [\"1人\", \"2人\", \"3人\", \"4人\", \"5人\", \"6人以上\", \"作品数\"]\n",
    "DF = pd.DataFrame(data = arrayComicCounts, index = TargetsTypes, columns = Cols)\n",
    "print(DF)"
   ]
  }
 ],
 "metadata": {
  "kernelspec": {
   "display_name": "Python 3.9.12 ('comicle')",
   "language": "python",
   "name": "python3"
  },
  "language_info": {
   "codemirror_mode": {
    "name": "ipython",
    "version": 3
   },
   "file_extension": ".py",
   "mimetype": "text/x-python",
   "name": "python",
   "nbconvert_exporter": "python",
   "pygments_lexer": "ipython3",
   "version": "3.9.12"
  },
  "orig_nbformat": 4,
  "vscode": {
   "interpreter": {
    "hash": "339e6d626d9e6ab0de18dd1e0e4d8f8f3b6703534f7504cbe39807e5e8e0cc1e"
   }
  }
 },
 "nbformat": 4,
 "nbformat_minor": 2
}
